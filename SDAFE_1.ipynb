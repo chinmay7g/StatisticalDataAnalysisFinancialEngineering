{
 "cells": [
  {
   "cell_type": "markdown",
   "metadata": {},
   "source": [
    "# Quant"
   ]
  },
  {
   "cell_type": "code",
   "execution_count": 1,
   "metadata": {},
   "outputs": [
    {
     "name": "stderr",
     "output_type": "stream",
     "text": [
      "C:\\Users\\Chinmay\\Python\\lib\\site-packages\\requests\\__init__.py:89: RequestsDependencyWarning: urllib3 (1.26.9) or chardet (3.0.4) doesn't match a supported version!\n",
      "  warnings.warn(\"urllib3 ({}) or chardet ({}) doesn't match a supported \"\n"
     ]
    }
   ],
   "source": [
    "#importing libraries\n",
    "\n",
    "import pandas as pd\n",
    "import numpy as np\n",
    "import matplotlib.pyplot as plt\n",
    "import yfinance as yf"
   ]
  },
  {
   "cell_type": "code",
   "execution_count": 2,
   "metadata": {},
   "outputs": [
    {
     "name": "stdout",
     "output_type": "stream",
     "text": [
      "[*********************100%***********************]  1 of 1 completed\n"
     ]
    }
   ],
   "source": [
    "ticker = 'MCD'\n",
    "start = '2010-01-01'\n",
    "end = '2014-01-01'\n",
    "\n",
    "data = yf.download(ticker, start, end)"
   ]
  },
  {
   "cell_type": "code",
   "execution_count": 3,
   "metadata": {},
   "outputs": [
    {
     "data": {
      "text/html": [
       "<div>\n",
       "<style scoped>\n",
       "    .dataframe tbody tr th:only-of-type {\n",
       "        vertical-align: middle;\n",
       "    }\n",
       "\n",
       "    .dataframe tbody tr th {\n",
       "        vertical-align: top;\n",
       "    }\n",
       "\n",
       "    .dataframe thead th {\n",
       "        text-align: right;\n",
       "    }\n",
       "</style>\n",
       "<table border=\"1\" class=\"dataframe\">\n",
       "  <thead>\n",
       "    <tr style=\"text-align: right;\">\n",
       "      <th></th>\n",
       "      <th>Open</th>\n",
       "      <th>High</th>\n",
       "      <th>Low</th>\n",
       "      <th>Close</th>\n",
       "      <th>Adj Close</th>\n",
       "      <th>Volume</th>\n",
       "    </tr>\n",
       "    <tr>\n",
       "      <th>Date</th>\n",
       "      <th></th>\n",
       "      <th></th>\n",
       "      <th></th>\n",
       "      <th></th>\n",
       "      <th></th>\n",
       "      <th></th>\n",
       "    </tr>\n",
       "  </thead>\n",
       "  <tbody>\n",
       "    <tr>\n",
       "      <th>2010-01-04</th>\n",
       "      <td>62.630001</td>\n",
       "      <td>63.07</td>\n",
       "      <td>62.310001</td>\n",
       "      <td>62.779999</td>\n",
       "      <td>44.199623</td>\n",
       "      <td>5839300</td>\n",
       "    </tr>\n",
       "    <tr>\n",
       "      <th>2010-01-05</th>\n",
       "      <td>62.660000</td>\n",
       "      <td>62.75</td>\n",
       "      <td>62.189999</td>\n",
       "      <td>62.299999</td>\n",
       "      <td>43.861694</td>\n",
       "      <td>7099000</td>\n",
       "    </tr>\n",
       "    <tr>\n",
       "      <th>2010-01-06</th>\n",
       "      <td>62.200001</td>\n",
       "      <td>62.41</td>\n",
       "      <td>61.060001</td>\n",
       "      <td>61.450001</td>\n",
       "      <td>43.263245</td>\n",
       "      <td>10551300</td>\n",
       "    </tr>\n",
       "    <tr>\n",
       "      <th>2010-01-07</th>\n",
       "      <td>61.250000</td>\n",
       "      <td>62.34</td>\n",
       "      <td>61.110001</td>\n",
       "      <td>61.900002</td>\n",
       "      <td>43.580074</td>\n",
       "      <td>7517700</td>\n",
       "    </tr>\n",
       "    <tr>\n",
       "      <th>2010-01-08</th>\n",
       "      <td>62.270000</td>\n",
       "      <td>62.41</td>\n",
       "      <td>61.599998</td>\n",
       "      <td>61.840000</td>\n",
       "      <td>43.537853</td>\n",
       "      <td>6107300</td>\n",
       "    </tr>\n",
       "  </tbody>\n",
       "</table>\n",
       "</div>"
      ],
      "text/plain": [
       "                 Open   High        Low      Close  Adj Close    Volume\n",
       "Date                                                                   \n",
       "2010-01-04  62.630001  63.07  62.310001  62.779999  44.199623   5839300\n",
       "2010-01-05  62.660000  62.75  62.189999  62.299999  43.861694   7099000\n",
       "2010-01-06  62.200001  62.41  61.060001  61.450001  43.263245  10551300\n",
       "2010-01-07  61.250000  62.34  61.110001  61.900002  43.580074   7517700\n",
       "2010-01-08  62.270000  62.41  61.599998  61.840000  43.537853   6107300"
      ]
     },
     "execution_count": 3,
     "metadata": {},
     "output_type": "execute_result"
    }
   ],
   "source": [
    "data.head()"
   ]
  },
  {
   "cell_type": "code",
   "execution_count": 4,
   "metadata": {},
   "outputs": [],
   "source": [
    "## Computing  net returns\n",
    "\n",
    "data['Ret'] = (data['Adj Close'] - data['Adj Close'].shift(-1))/data['Adj Close'].shift(-1)"
   ]
  },
  {
   "cell_type": "code",
   "execution_count": 5,
   "metadata": {},
   "outputs": [],
   "source": [
    "## Computing log returns\n",
    "\n",
    "data['logRet'] = (np.log(data['Adj Close']) - (np.log(data['Adj Close'].shift(-1))))"
   ]
  },
  {
   "cell_type": "code",
   "execution_count": 6,
   "metadata": {},
   "outputs": [
    {
     "data": {
      "text/html": [
       "<div>\n",
       "<style scoped>\n",
       "    .dataframe tbody tr th:only-of-type {\n",
       "        vertical-align: middle;\n",
       "    }\n",
       "\n",
       "    .dataframe tbody tr th {\n",
       "        vertical-align: top;\n",
       "    }\n",
       "\n",
       "    .dataframe thead th {\n",
       "        text-align: right;\n",
       "    }\n",
       "</style>\n",
       "<table border=\"1\" class=\"dataframe\">\n",
       "  <thead>\n",
       "    <tr style=\"text-align: right;\">\n",
       "      <th></th>\n",
       "      <th>Adj Close</th>\n",
       "      <th>Ret</th>\n",
       "      <th>logRet</th>\n",
       "    </tr>\n",
       "    <tr>\n",
       "      <th>Date</th>\n",
       "      <th></th>\n",
       "      <th></th>\n",
       "      <th></th>\n",
       "    </tr>\n",
       "  </thead>\n",
       "  <tbody>\n",
       "    <tr>\n",
       "      <th>2010-01-04</th>\n",
       "      <td>44.199623</td>\n",
       "      <td>0.007704</td>\n",
       "      <td>0.007675</td>\n",
       "    </tr>\n",
       "    <tr>\n",
       "      <th>2010-01-05</th>\n",
       "      <td>43.861694</td>\n",
       "      <td>0.013833</td>\n",
       "      <td>0.013738</td>\n",
       "    </tr>\n",
       "    <tr>\n",
       "      <th>2010-01-06</th>\n",
       "      <td>43.263245</td>\n",
       "      <td>-0.007270</td>\n",
       "      <td>-0.007297</td>\n",
       "    </tr>\n",
       "    <tr>\n",
       "      <th>2010-01-07</th>\n",
       "      <td>43.580074</td>\n",
       "      <td>0.000970</td>\n",
       "      <td>0.000969</td>\n",
       "    </tr>\n",
       "    <tr>\n",
       "      <th>2010-01-08</th>\n",
       "      <td>43.537853</td>\n",
       "      <td>-0.007701</td>\n",
       "      <td>-0.007731</td>\n",
       "    </tr>\n",
       "  </tbody>\n",
       "</table>\n",
       "</div>"
      ],
      "text/plain": [
       "            Adj Close       Ret    logRet\n",
       "Date                                     \n",
       "2010-01-04  44.199623  0.007704  0.007675\n",
       "2010-01-05  43.861694  0.013833  0.013738\n",
       "2010-01-06  43.263245 -0.007270 -0.007297\n",
       "2010-01-07  43.580074  0.000970  0.000969\n",
       "2010-01-08  43.537853 -0.007701 -0.007731"
      ]
     },
     "execution_count": 6,
     "metadata": {},
     "output_type": "execute_result"
    }
   ],
   "source": [
    "df = data[['Adj Close', 'Ret', 'logRet']]\n",
    "df.head()"
   ]
  },
  {
   "cell_type": "code",
   "execution_count": 7,
   "metadata": {},
   "outputs": [],
   "source": [
    "import seaborn as sns\n",
    "sns.set(style='whitegrid')"
   ]
  },
  {
   "cell_type": "code",
   "execution_count": 9,
   "metadata": {},
   "outputs": [
    {
     "data": {
      "image/png": "[encoded data removed]",
      "text/plain": [
       "<Figure size 432x288 with 1 Axes>"
      ]
     },
     "metadata": {},
     "output_type": "display_data"
    }
   ],
   "source": [
    "plt.plot(df['Ret'], df['logRet'])\n",
    "plt.title(['Net Return vs. Log Return'])\n",
    "plt.show()"
   ]
  },
  {
   "cell_type": "markdown",
   "metadata": {},
   "source": [
    "### This supports the assumption that if Returns are smaller, log of the returns are also on the same scale"
   ]
  },
  {
   "cell_type": "markdown",
   "metadata": {},
   "source": [
    "### Problem 13: Computing Mean and Std. Dev"
   ]
  },
  {
   "cell_type": "code",
   "execution_count": 10,
   "metadata": {},
   "outputs": [
    {
     "name": "stderr",
     "output_type": "stream",
     "text": [
      "<ipython-input-10-b8a7522bd43d>:1: SettingWithCopyWarning: \n",
      "A value is trying to be set on a copy of a slice from a DataFrame.\n",
      "Try using .loc[row_indexer,col_indexer] = value instead\n",
      "\n",
      "See the caveats in the documentation: https://pandas.pydata.org/pandas-docs/stable/user_guide/indexing.html#returning-a-view-versus-a-copy\n",
      "  df['R_Mean'] = np.mean(df['Ret'])\n",
      "<ipython-input-10-b8a7522bd43d>:2: SettingWithCopyWarning: \n",
      "A value is trying to be set on a copy of a slice from a DataFrame.\n",
      "Try using .loc[row_indexer,col_indexer] = value instead\n",
      "\n",
      "See the caveats in the documentation: https://pandas.pydata.org/pandas-docs/stable/user_guide/indexing.html#returning-a-view-versus-a-copy\n",
      "  df['lR_Mean'] = np.mean(df['logRet'])\n"
     ]
    }
   ],
   "source": [
    "df['R_Mean'] = np.mean(df['Ret'])\n",
    "df['lR_Mean'] = np.mean(df['logRet'])"
   ]
  },
  {
   "cell_type": "code",
   "execution_count": 11,
   "metadata": {},
   "outputs": [
    {
     "name": "stderr",
     "output_type": "stream",
     "text": [
      "<ipython-input-11-578caa13a42a>:3: SettingWithCopyWarning: \n",
      "A value is trying to be set on a copy of a slice from a DataFrame.\n",
      "Try using .loc[row_indexer,col_indexer] = value instead\n",
      "\n",
      "See the caveats in the documentation: https://pandas.pydata.org/pandas-docs/stable/user_guide/indexing.html#returning-a-view-versus-a-copy\n",
      "  df['std_Ret'] = np.std(df['Ret'])\n",
      "<ipython-input-11-578caa13a42a>:4: SettingWithCopyWarning: \n",
      "A value is trying to be set on a copy of a slice from a DataFrame.\n",
      "Try using .loc[row_indexer,col_indexer] = value instead\n",
      "\n",
      "See the caveats in the documentation: https://pandas.pydata.org/pandas-docs/stable/user_guide/indexing.html#returning-a-view-versus-a-copy\n",
      "  df['std_logRet'] =np.std(df['logRet'])\n"
     ]
    }
   ],
   "source": [
    "### Calculating std deviation\n",
    "\n",
    "df['std_Ret'] = np.std(df['Ret'])\n",
    "df['std_logRet'] =np.std(df['logRet'])"
   ]
  },
  {
   "cell_type": "code",
   "execution_count": 12,
   "metadata": {},
   "outputs": [
    {
     "data": {
      "text/html": [
       "<div>\n",
       "<style scoped>\n",
       "    .dataframe tbody tr th:only-of-type {\n",
       "        vertical-align: middle;\n",
       "    }\n",
       "\n",
       "    .dataframe tbody tr th {\n",
       "        vertical-align: top;\n",
       "    }\n",
       "\n",
       "    .dataframe thead th {\n",
       "        text-align: right;\n",
       "    }\n",
       "</style>\n",
       "<table border=\"1\" class=\"dataframe\">\n",
       "  <thead>\n",
       "    <tr style=\"text-align: right;\">\n",
       "      <th></th>\n",
       "      <th>Adj Close</th>\n",
       "      <th>Ret</th>\n",
       "      <th>logRet</th>\n",
       "      <th>R_Mean</th>\n",
       "      <th>lR_Mean</th>\n",
       "      <th>std_Ret</th>\n",
       "      <th>std_logRet</th>\n",
       "    </tr>\n",
       "    <tr>\n",
       "      <th>Date</th>\n",
       "      <th></th>\n",
       "      <th></th>\n",
       "      <th></th>\n",
       "      <th></th>\n",
       "      <th></th>\n",
       "      <th></th>\n",
       "      <th></th>\n",
       "    </tr>\n",
       "  </thead>\n",
       "  <tbody>\n",
       "    <tr>\n",
       "      <th>2010-01-04</th>\n",
       "      <td>44.199623</td>\n",
       "      <td>0.007704</td>\n",
       "      <td>0.007675</td>\n",
       "      <td>-0.000516</td>\n",
       "      <td>-0.000558</td>\n",
       "      <td>0.009214</td>\n",
       "      <td>0.009208</td>\n",
       "    </tr>\n",
       "    <tr>\n",
       "      <th>2010-01-05</th>\n",
       "      <td>43.861694</td>\n",
       "      <td>0.013833</td>\n",
       "      <td>0.013738</td>\n",
       "      <td>-0.000516</td>\n",
       "      <td>-0.000558</td>\n",
       "      <td>0.009214</td>\n",
       "      <td>0.009208</td>\n",
       "    </tr>\n",
       "    <tr>\n",
       "      <th>2010-01-06</th>\n",
       "      <td>43.263245</td>\n",
       "      <td>-0.007270</td>\n",
       "      <td>-0.007297</td>\n",
       "      <td>-0.000516</td>\n",
       "      <td>-0.000558</td>\n",
       "      <td>0.009214</td>\n",
       "      <td>0.009208</td>\n",
       "    </tr>\n",
       "    <tr>\n",
       "      <th>2010-01-07</th>\n",
       "      <td>43.580074</td>\n",
       "      <td>0.000970</td>\n",
       "      <td>0.000969</td>\n",
       "      <td>-0.000516</td>\n",
       "      <td>-0.000558</td>\n",
       "      <td>0.009214</td>\n",
       "      <td>0.009208</td>\n",
       "    </tr>\n",
       "    <tr>\n",
       "      <th>2010-01-08</th>\n",
       "      <td>43.537853</td>\n",
       "      <td>-0.007701</td>\n",
       "      <td>-0.007731</td>\n",
       "      <td>-0.000516</td>\n",
       "      <td>-0.000558</td>\n",
       "      <td>0.009214</td>\n",
       "      <td>0.009208</td>\n",
       "    </tr>\n",
       "  </tbody>\n",
       "</table>\n",
       "</div>"
      ],
      "text/plain": [
       "            Adj Close       Ret    logRet    R_Mean   lR_Mean   std_Ret  \\\n",
       "Date                                                                      \n",
       "2010-01-04  44.199623  0.007704  0.007675 -0.000516 -0.000558  0.009214   \n",
       "2010-01-05  43.861694  0.013833  0.013738 -0.000516 -0.000558  0.009214   \n",
       "2010-01-06  43.263245 -0.007270 -0.007297 -0.000516 -0.000558  0.009214   \n",
       "2010-01-07  43.580074  0.000970  0.000969 -0.000516 -0.000558  0.009214   \n",
       "2010-01-08  43.537853 -0.007701 -0.007731 -0.000516 -0.000558  0.009214   \n",
       "\n",
       "            std_logRet  \n",
       "Date                    \n",
       "2010-01-04    0.009208  \n",
       "2010-01-05    0.009208  \n",
       "2010-01-06    0.009208  \n",
       "2010-01-07    0.009208  \n",
       "2010-01-08    0.009208  "
      ]
     },
     "execution_count": 12,
     "metadata": {},
     "output_type": "execute_result"
    }
   ],
   "source": [
    "df.head()"
   ]
  },
  {
   "cell_type": "markdown",
   "metadata": {},
   "source": [
    "## Problem 14: Performing t-test"
   ]
  },
  {
   "cell_type": "markdown",
   "metadata": {},
   "source": [
    "### Null hypothesis: Both the means are same\n",
    "### Alternative: Both means are not same"
   ]
  },
  {
   "cell_type": "code",
   "execution_count": 13,
   "metadata": {},
   "outputs": [
    {
     "name": "stdout",
     "output_type": "stream",
     "text": [
      "Ttest_indResult(statistic=6222375067436867.0, pvalue=0.0)\n"
     ]
    }
   ],
   "source": [
    "from scipy.stats import ttest_ind\n",
    "\n",
    "result_ttest = ttest_ind(df['R_Mean'], df['lR_Mean'])\n",
    "print(result_ttest)"
   ]
  },
  {
   "cell_type": "code",
   "execution_count": 14,
   "metadata": {},
   "outputs": [
    {
     "name": "stdout",
     "output_type": "stream",
     "text": [
      "Ttest_indResult(statistic=6222375067436867.0, pvalue=0.0)\n"
     ]
    }
   ],
   "source": [
    "### Considering unequal variance\n",
    "\n",
    "result2 = ttest_ind(df['R_Mean'], df['lR_Mean'])\n",
    "print(result2)"
   ]
  },
  {
   "cell_type": "markdown",
   "metadata": {},
   "source": [
    "### Since the t-statistic is too large at 5% confidence level, we can confirm that both means are not that similar and differ vastly."
   ]
  },
  {
   "cell_type": "markdown",
   "metadata": {},
   "source": [
    "## Problem 16"
   ]
  },
  {
   "cell_type": "code",
   "execution_count": 18,
   "metadata": {},
   "outputs": [],
   "source": [
    "### Calculating moments\n",
    "\n",
    "from scipy.stats import moment\n",
    "\n",
    "mean_moment1 = moment(df['Ret'], moment=1)\n",
    "mean_moment2 = moment(df['Ret'], moment=2)\n",
    "\n",
    "lr_mean_moment1 = moment(df['logRet'], moment=1)\n",
    "lr_mean_moment2 = moment(df['logRet'], moment=2)"
   ]
  },
  {
   "cell_type": "code",
   "execution_count": 19,
   "metadata": {},
   "outputs": [
    {
     "name": "stdout",
     "output_type": "stream",
     "text": [
      "0.0\n",
      "nan\n",
      "0.0\n",
      "nan\n"
     ]
    }
   ],
   "source": [
    "print(mean_moment1)\n",
    "print(mean_moment2)\n",
    "print(lr_mean_moment1)\n",
    "print(lr_mean_moment2)"
   ]
  },
  {
   "cell_type": "code",
   "execution_count": 20,
   "metadata": {},
   "outputs": [],
   "source": [
    "### Comparing with numpy calculations only for log returns\n",
    "\n",
    "log_mean = np.mean(df['logRet'])\n",
    "log_std = np.std(df['logRet'])"
   ]
  },
  {
   "cell_type": "code",
   "execution_count": 21,
   "metadata": {},
   "outputs": [
    {
     "name": "stdout",
     "output_type": "stream",
     "text": [
      "-0.0005582323722803213\n",
      "0.009208331968291772\n"
     ]
    }
   ],
   "source": [
    "print(log_mean)\n",
    "print(log_std)"
   ]
  },
  {
   "cell_type": "code",
   "execution_count": 16,
   "metadata": {},
   "outputs": [
    {
     "name": "stderr",
     "output_type": "stream",
     "text": [
      "C:\\Users\\Chinmay\\Python\\lib\\site-packages\\seaborn\\distributions.py:2551: FutureWarning: `distplot` is a deprecated function and will be removed in a future version. Please adapt your code to use either `displot` (a figure-level function with similar flexibility) or `histplot` (an axes-level function for histograms).\n",
      "  warnings.warn(msg, FutureWarning)\n"
     ]
    },
    {
     "data": {
      "image/png": "[encoded data removed]",
      "text/plain": [
       "<Figure size 432x288 with 1 Axes>"
      ]
     },
     "metadata": {},
     "output_type": "display_data"
    }
   ],
   "source": [
    "sns.distplot(df['logRet'])\n",
    "plt.show()"
   ]
  },
  {
   "cell_type": "markdown",
   "metadata": {},
   "source": [
    "#### Simulating the strategy: Get paid $100 everytime stock goes below $85 over the next 20 days"
   ]
  },
  {
   "cell_type": "code",
   "execution_count": 33,
   "metadata": {},
   "outputs": [],
   "source": [
    "n_iter = 1000\n",
    "below = np.zeros(1000)\n",
    "np.random.seed(1998)\n",
    "\n",
    "for i in range(n_iter):\n",
    "    r = np.random.normal(log_mean/253, log_std/(253**0.5), 20)\n",
    "    logPrice = np.log(1e3) + np.cumsum(r)\n",
    "    min_log = np.min(logPrice)\n",
    "    if min_log<85:\n",
    "        below[i] = min_log\n",
    "    "
   ]
  },
  {
   "cell_type": "code",
   "execution_count": 35,
   "metadata": {},
   "outputs": [
    {
     "name": "stdout",
     "output_type": "stream",
     "text": [
      "6.90596302581461\n"
     ]
    }
   ],
   "source": [
    "print(np.mean(below))"
   ]
  },
  {
   "cell_type": "code",
   "execution_count": null,
   "metadata": {},
   "outputs": [],
   "source": []
  }
 ],
 "metadata": {
  "kernelspec": {
   "display_name": "Python 3",
   "language": "python",
   "name": "python3"
  },
  "language_info": {
   "codemirror_mode": {
    "name": "ipython",
    "version": 3
   },
   "file_extension": ".py",
   "mimetype": "text/x-python",
   "name": "python",
   "nbconvert_exporter": "python",
   "pygments_lexer": "ipython3",
   "version": "3.8.5"
  }
 },
 "nbformat": 4,
 "nbformat_minor": 4
}
